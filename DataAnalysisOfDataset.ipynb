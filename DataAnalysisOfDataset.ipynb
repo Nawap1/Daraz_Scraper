{
  "nbformat": 4,
  "nbformat_minor": 0,
  "metadata": {
    "colab": {
      "provenance": []
    },
    "kernelspec": {
      "name": "python3",
      "display_name": "Python 3"
    },
    "language_info": {
      "name": "python"
    }
  },
  "cells": [
    {
      "cell_type": "markdown",
      "source": [
        "# Getting access to our scraped dataset"
      ],
      "metadata": {
        "id": "Ay_ZNOL1xmR8"
      }
    },
    {
      "cell_type": "code",
      "execution_count": 8,
      "metadata": {
        "id": "AjfYG7i4lZt4"
      },
      "outputs": [],
      "source": [
        "import pandas as pd\n",
        "df = pd.read_csv('Daraz_Phone_Dataset.csv')"
      ]
    },
    {
      "cell_type": "code",
      "source": [
        "df.head()"
      ],
      "metadata": {
        "colab": {
          "base_uri": "https://localhost:8080/",
          "height": 206
        },
        "id": "vtvrB8SAmFC9",
        "outputId": "50324cb3-2887-4166-f745-727c906a5c90"
      },
      "execution_count": 9,
      "outputs": [
        {
          "output_type": "execute_result",
          "data": {
            "text/plain": [
              "   Unnamed: 0                                       Product Name    Brand  \\\n",
              "0           0               Apple iPhone 14 Pro Max - Oliz Store    Apple   \n",
              "1           1                   Apple iPhone 14 Pro - Oliz Store    Apple   \n",
              "2           2                 Apple iPhone 14 Pro Max - EvoStore    Apple   \n",
              "3           3  Samsung Galaxy A03 Core Mobile Phone (2GB/32GB...  Samsung   \n",
              "4           4  HONOR 70 5G ( 8GB RAM , 256GB STORAGE, 6.67 In...    Honor   \n",
              "\n",
              "  Product Price  Number of Rating  Number of Reviews  \n",
              "0   Rs. 207,990                 4                5.0  \n",
              "1   Rs. 187,990                 5                1.0  \n",
              "2   Rs. 226,990                 5                1.0  \n",
              "3    Rs. 12,499                 4               12.0  \n",
              "4    Rs. 69,990                 4                3.0  "
            ],
            "text/html": [
              "\n",
              "  <div id=\"df-60ff65bc-f79f-4ea1-b95f-a06c55c2f6f3\">\n",
              "    <div class=\"colab-df-container\">\n",
              "      <div>\n",
              "<style scoped>\n",
              "    .dataframe tbody tr th:only-of-type {\n",
              "        vertical-align: middle;\n",
              "    }\n",
              "\n",
              "    .dataframe tbody tr th {\n",
              "        vertical-align: top;\n",
              "    }\n",
              "\n",
              "    .dataframe thead th {\n",
              "        text-align: right;\n",
              "    }\n",
              "</style>\n",
              "<table border=\"1\" class=\"dataframe\">\n",
              "  <thead>\n",
              "    <tr style=\"text-align: right;\">\n",
              "      <th></th>\n",
              "      <th>Unnamed: 0</th>\n",
              "      <th>Product Name</th>\n",
              "      <th>Brand</th>\n",
              "      <th>Product Price</th>\n",
              "      <th>Number of Rating</th>\n",
              "      <th>Number of Reviews</th>\n",
              "    </tr>\n",
              "  </thead>\n",
              "  <tbody>\n",
              "    <tr>\n",
              "      <th>0</th>\n",
              "      <td>0</td>\n",
              "      <td>Apple iPhone 14 Pro Max - Oliz Store</td>\n",
              "      <td>Apple</td>\n",
              "      <td>Rs. 207,990</td>\n",
              "      <td>4</td>\n",
              "      <td>5.0</td>\n",
              "    </tr>\n",
              "    <tr>\n",
              "      <th>1</th>\n",
              "      <td>1</td>\n",
              "      <td>Apple iPhone 14 Pro - Oliz Store</td>\n",
              "      <td>Apple</td>\n",
              "      <td>Rs. 187,990</td>\n",
              "      <td>5</td>\n",
              "      <td>1.0</td>\n",
              "    </tr>\n",
              "    <tr>\n",
              "      <th>2</th>\n",
              "      <td>2</td>\n",
              "      <td>Apple iPhone 14 Pro Max - EvoStore</td>\n",
              "      <td>Apple</td>\n",
              "      <td>Rs. 226,990</td>\n",
              "      <td>5</td>\n",
              "      <td>1.0</td>\n",
              "    </tr>\n",
              "    <tr>\n",
              "      <th>3</th>\n",
              "      <td>3</td>\n",
              "      <td>Samsung Galaxy A03 Core Mobile Phone (2GB/32GB...</td>\n",
              "      <td>Samsung</td>\n",
              "      <td>Rs. 12,499</td>\n",
              "      <td>4</td>\n",
              "      <td>12.0</td>\n",
              "    </tr>\n",
              "    <tr>\n",
              "      <th>4</th>\n",
              "      <td>4</td>\n",
              "      <td>HONOR 70 5G ( 8GB RAM , 256GB STORAGE, 6.67 In...</td>\n",
              "      <td>Honor</td>\n",
              "      <td>Rs. 69,990</td>\n",
              "      <td>4</td>\n",
              "      <td>3.0</td>\n",
              "    </tr>\n",
              "  </tbody>\n",
              "</table>\n",
              "</div>\n",
              "      <button class=\"colab-df-convert\" onclick=\"convertToInteractive('df-60ff65bc-f79f-4ea1-b95f-a06c55c2f6f3')\"\n",
              "              title=\"Convert this dataframe to an interactive table.\"\n",
              "              style=\"display:none;\">\n",
              "        \n",
              "  <svg xmlns=\"http://www.w3.org/2000/svg\" height=\"24px\"viewBox=\"0 0 24 24\"\n",
              "       width=\"24px\">\n",
              "    <path d=\"M0 0h24v24H0V0z\" fill=\"none\"/>\n",
              "    <path d=\"M18.56 5.44l.94 2.06.94-2.06 2.06-.94-2.06-.94-.94-2.06-.94 2.06-2.06.94zm-11 1L8.5 8.5l.94-2.06 2.06-.94-2.06-.94L8.5 2.5l-.94 2.06-2.06.94zm10 10l.94 2.06.94-2.06 2.06-.94-2.06-.94-.94-2.06-.94 2.06-2.06.94z\"/><path d=\"M17.41 7.96l-1.37-1.37c-.4-.4-.92-.59-1.43-.59-.52 0-1.04.2-1.43.59L10.3 9.45l-7.72 7.72c-.78.78-.78 2.05 0 2.83L4 21.41c.39.39.9.59 1.41.59.51 0 1.02-.2 1.41-.59l7.78-7.78 2.81-2.81c.8-.78.8-2.07 0-2.86zM5.41 20L4 18.59l7.72-7.72 1.47 1.35L5.41 20z\"/>\n",
              "  </svg>\n",
              "      </button>\n",
              "      \n",
              "  <style>\n",
              "    .colab-df-container {\n",
              "      display:flex;\n",
              "      flex-wrap:wrap;\n",
              "      gap: 12px;\n",
              "    }\n",
              "\n",
              "    .colab-df-convert {\n",
              "      background-color: #E8F0FE;\n",
              "      border: none;\n",
              "      border-radius: 50%;\n",
              "      cursor: pointer;\n",
              "      display: none;\n",
              "      fill: #1967D2;\n",
              "      height: 32px;\n",
              "      padding: 0 0 0 0;\n",
              "      width: 32px;\n",
              "    }\n",
              "\n",
              "    .colab-df-convert:hover {\n",
              "      background-color: #E2EBFA;\n",
              "      box-shadow: 0px 1px 2px rgba(60, 64, 67, 0.3), 0px 1px 3px 1px rgba(60, 64, 67, 0.15);\n",
              "      fill: #174EA6;\n",
              "    }\n",
              "\n",
              "    [theme=dark] .colab-df-convert {\n",
              "      background-color: #3B4455;\n",
              "      fill: #D2E3FC;\n",
              "    }\n",
              "\n",
              "    [theme=dark] .colab-df-convert:hover {\n",
              "      background-color: #434B5C;\n",
              "      box-shadow: 0px 1px 3px 1px rgba(0, 0, 0, 0.15);\n",
              "      filter: drop-shadow(0px 1px 2px rgba(0, 0, 0, 0.3));\n",
              "      fill: #FFFFFF;\n",
              "    }\n",
              "  </style>\n",
              "\n",
              "      <script>\n",
              "        const buttonEl =\n",
              "          document.querySelector('#df-60ff65bc-f79f-4ea1-b95f-a06c55c2f6f3 button.colab-df-convert');\n",
              "        buttonEl.style.display =\n",
              "          google.colab.kernel.accessAllowed ? 'block' : 'none';\n",
              "\n",
              "        async function convertToInteractive(key) {\n",
              "          const element = document.querySelector('#df-60ff65bc-f79f-4ea1-b95f-a06c55c2f6f3');\n",
              "          const dataTable =\n",
              "            await google.colab.kernel.invokeFunction('convertToInteractive',\n",
              "                                                     [key], {});\n",
              "          if (!dataTable) return;\n",
              "\n",
              "          const docLinkHtml = 'Like what you see? Visit the ' +\n",
              "            '<a target=\"_blank\" href=https://colab.research.google.com/notebooks/data_table.ipynb>data table notebook</a>'\n",
              "            + ' to learn more about interactive tables.';\n",
              "          element.innerHTML = '';\n",
              "          dataTable['output_type'] = 'display_data';\n",
              "          await google.colab.output.renderOutput(dataTable, element);\n",
              "          const docLink = document.createElement('div');\n",
              "          docLink.innerHTML = docLinkHtml;\n",
              "          element.appendChild(docLink);\n",
              "        }\n",
              "      </script>\n",
              "    </div>\n",
              "  </div>\n",
              "  "
            ]
          },
          "metadata": {},
          "execution_count": 9
        }
      ]
    },
    {
      "cell_type": "markdown",
      "source": [
        "# Checking if the dataset has missing values"
      ],
      "metadata": {
        "id": "f7t-E0ebxuyo"
      }
    },
    {
      "cell_type": "code",
      "source": [
        "df.isnull().sum()"
      ],
      "metadata": {
        "colab": {
          "base_uri": "https://localhost:8080/"
        },
        "id": "tgK-kj6bmGWf",
        "outputId": "f127ef71-793d-4c73-8831-60a4cd5e3ecd"
      },
      "execution_count": 10,
      "outputs": [
        {
          "output_type": "execute_result",
          "data": {
            "text/plain": [
              "Unnamed: 0             0\n",
              "Product Name           0\n",
              "Brand                  0\n",
              "Product Price          0\n",
              "Number of Rating       0\n",
              "Number of Reviews    605\n",
              "dtype: int64"
            ]
          },
          "metadata": {},
          "execution_count": 10
        }
      ]
    },
    {
      "cell_type": "markdown",
      "source": [
        "### We can see that in the number of reviews there are alot of missing values because there are no reviews"
      ],
      "metadata": {
        "id": "xVBUpL1yzBig"
      }
    },
    {
      "cell_type": "markdown",
      "source": [
        "## Fillling the missing value"
      ],
      "metadata": {
        "id": "FDU70Dcjx0Kz"
      }
    },
    {
      "cell_type": "markdown",
      "source": [
        "So we are going to fill the missing values with 0 as no review can be denoted by 0"
      ],
      "metadata": {
        "id": "HcMVgJfRzKzv"
      }
    },
    {
      "cell_type": "code",
      "source": [
        "df.fillna(0, inplace=True)"
      ],
      "metadata": {
        "id": "np2JtMsNmtoL"
      },
      "execution_count": 11,
      "outputs": []
    },
    {
      "cell_type": "code",
      "source": [
        "df.isnull().sum()"
      ],
      "metadata": {
        "id": "H9vmB1eHnCCU",
        "colab": {
          "base_uri": "https://localhost:8080/"
        },
        "outputId": "d34b472d-89dc-418f-92a7-f5fd94f46484"
      },
      "execution_count": 12,
      "outputs": [
        {
          "output_type": "execute_result",
          "data": {
            "text/plain": [
              "Unnamed: 0           0\n",
              "Product Name         0\n",
              "Brand                0\n",
              "Product Price        0\n",
              "Number of Rating     0\n",
              "Number of Reviews    0\n",
              "dtype: int64"
            ]
          },
          "metadata": {},
          "execution_count": 12
        }
      ]
    },
    {
      "cell_type": "markdown",
      "source": [
        "# Visualizing our data"
      ],
      "metadata": {
        "id": "On2Pj8Q9x8cI"
      }
    },
    {
      "cell_type": "markdown",
      "source": [
        "## Checking which brand has highest number of phone selling on the market"
      ],
      "metadata": {
        "id": "lfnErGk8yEvk"
      }
    },
    {
      "cell_type": "code",
      "source": [
        "import matplotlib.pyplot as plt\n",
        "\n",
        "brand_count = df['Brand'].value_counts().nlargest(10)\n",
        "\n",
        "plt.figure(figsize=(10,8))\n",
        "plt.bar(brand_count.index, brand_count.values)\n",
        "\n",
        "plt.title('Brand Count')\n",
        "plt.xlabel('Brand')\n",
        "plt.ylabel('Count')\n",
        "\n",
        "plt.show()"
      ],
      "metadata": {
        "colab": {
          "base_uri": "https://localhost:8080/",
          "height": 513
        },
        "id": "jD8pjrQ5nhqd",
        "outputId": "4dacf058-d229-47c0-8d26-4d553ea5c80d"
      },
      "execution_count": 19,
      "outputs": [
        {
          "output_type": "display_data",
          "data": {
            "text/plain": [
              "<Figure size 720x576 with 1 Axes>"
            ],
            "image/png": "[encoded data removed]"
          },
          "metadata": {
            "needs_background": "light"
          }
        }
      ]
    },
    {
      "cell_type": "markdown",
      "source": [
        "### Samsung is dominating in the number of phone being sold on the market"
      ],
      "metadata": {
        "id": "nKACAKyZy1LL"
      }
    },
    {
      "cell_type": "markdown",
      "source": [
        "# Checking which brand has the highest mean rating"
      ],
      "metadata": {
        "id": "xrdRusI0yOJd"
      }
    },
    {
      "cell_type": "code",
      "source": [
        "brand_ratings = df[df['Number of Rating'] != 0].groupby('Brand')['Number of Rating'].mean()\n",
        "\n",
        "top_10_brands = brand_ratings.sort_values(ascending=False).head(20)\n",
        "\n",
        "plt.bar(top_10_brands.index, top_10_brands.values)\n",
        "\n",
        "plt.title('Top 10 Brands by Number of Ratings')\n",
        "plt.xlabel('Brand')\n",
        "plt.ylabel('Number of Ratings')\n",
        "\n",
        "plt.xticks(rotation=90)\n",
        "\n",
        "plt.show()"
      ],
      "metadata": {
        "colab": {
          "base_uri": "https://localhost:8080/",
          "height": 334
        },
        "id": "iwquFLstoCPu",
        "outputId": "8f7df0ff-817c-42e7-f8cb-fa10a53713c7"
      },
      "execution_count": 27,
      "outputs": [
        {
          "output_type": "display_data",
          "data": {
            "text/plain": [
              "<Figure size 432x288 with 1 Axes>"
            ],
            "image/png": "[encoded data removed]"
          },
          "metadata": {
            "needs_background": "light"
          }
        }
      ]
    },
    {
      "cell_type": "markdown",
      "source": [
        "### A49 Narzo Oppo Motorola has the highest mean rating among other brands"
      ],
      "metadata": {
        "id": "gf6j1bTJyouh"
      }
    },
    {
      "cell_type": "markdown",
      "source": [
        "# Checking which brand is the most popular according to the number of reviews"
      ],
      "metadata": {
        "id": "VMZ84dnUyYN3"
      }
    },
    {
      "cell_type": "code",
      "source": [
        "\n",
        "brand_review_counts = df.groupby('Brand')['Number of Reviews'].sum()\n",
        "\n",
        "sorted_brands = brand_review_counts.sort_values(ascending=False)\n",
        "\n",
        "top_5_brands = sorted_brands[:5]\n",
        "\n",
        "plt.bar(top_5_brands.index, top_5_brands.values)\n",
        "\n",
        "plt.title('Total Reviews by Brand (Top 5)')\n",
        "plt.xlabel('Brand')\n",
        "plt.ylabel('Number of Reviews')\n",
        "\n",
        "plt.show()"
      ],
      "metadata": {
        "colab": {
          "base_uri": "https://localhost:8080/",
          "height": 295
        },
        "id": "q-Vs8nMypbtu",
        "outputId": "4940ba7b-da61-4868-bdba-066588481143"
      },
      "execution_count": 37,
      "outputs": [
        {
          "output_type": "display_data",
          "data": {
            "text/plain": [
              "<Figure size 432x288 with 1 Axes>"
            ],
            "image/png": "[encoded data removed]"
          },
          "metadata": {
            "needs_background": "light"
          }
        }
      ]
    },
    {
      "cell_type": "markdown",
      "source": [
        "### Its Redmi"
      ],
      "metadata": {
        "id": "W0E3O2WtyhuK"
      }
    },
    {
      "cell_type": "code",
      "source": [],
      "metadata": {
        "id": "6ZiB6kRGtdqc"
      },
      "execution_count": null,
      "outputs": []
    }
  ]
}